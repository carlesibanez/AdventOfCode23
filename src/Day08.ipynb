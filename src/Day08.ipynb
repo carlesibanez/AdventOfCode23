{
 "cells": [
  {
   "cell_type": "markdown",
   "metadata": {},
   "source": [
    "# Day 8"
   ]
  },
  {
   "cell_type": "code",
   "execution_count": 1,
   "metadata": {},
   "outputs": [],
   "source": [
    "# Read input file\n",
    "with open('../inputs/adventofcode.com_2023_day_08_input.txt', 'r') as f:\n",
    "    data = f.read().splitlines()"
   ]
  },
  {
   "cell_type": "markdown",
   "metadata": {},
   "source": [
    "## Puzzle 1"
   ]
  },
  {
   "cell_type": "code",
   "execution_count": 2,
   "metadata": {},
   "outputs": [],
   "source": [
    "# Parse directions\n",
    "directions = list(data[0])\n",
    "\n",
    "# Parse network\n",
    "network = {}\n",
    "for l in data[2:]:\n",
    "    a, b = l.split(' = ')\n",
    "    b = b.replace('(', '').replace(')', '').split(', ')\n",
    "    network[a] = (b[0], b[1])\n"
   ]
  },
  {
   "cell_type": "code",
   "execution_count": 3,
   "metadata": {},
   "outputs": [
    {
     "name": "stdout",
     "output_type": "stream",
     "text": [
      "It took 12643 steps to reach ZZZ\n"
     ]
    }
   ],
   "source": [
    "# Set initial node\n",
    "node = 'AAA'\n",
    "steps = 0\n",
    "dir = 0\n",
    "# Advance one node at a time until we reach ZZZ\n",
    "while True:\n",
    "    if directions[dir] == 'L':\n",
    "        node = network[node][0]\n",
    "    else:\n",
    "        node = network[node][1]\n",
    "    steps += 1\n",
    "    dir += 1\n",
    "    dir = dir % len(directions)\n",
    "    if node == 'ZZZ':\n",
    "        break\n",
    "\n",
    "print(f'It took {steps} steps to reach ZZZ')"
   ]
  },
  {
   "cell_type": "markdown",
   "metadata": {},
   "source": [
    "## Puzzle 2"
   ]
  },
  {
   "cell_type": "code",
   "execution_count": 4,
   "metadata": {},
   "outputs": [
    {
     "name": "stdout",
     "output_type": "stream",
     "text": [
      "It takes 13133452426987 steps to reach ZZZ on all paths\n"
     ]
    }
   ],
   "source": [
    "# Get the nodes that end with A\n",
    "nodes = [n for n in network.keys() if n.endswith('A')]\n",
    "\n",
    "# Create a dictionary to store the history of each node, and the pattern of the cycle\n",
    "history = {n: [n] for n in nodes}\n",
    "pattern = {n: 0 for n in nodes}\n",
    "\n",
    "steps = 1\n",
    "dir = 0\n",
    "# For each of the nodes we havent found a pattern for, advance one step at a time\n",
    "while len(nodes) > 0:\n",
    "\n",
    "    if directions[dir] == 'L':\n",
    "        [history[node].append(network[history[node][-1]][0]) for node in nodes]\n",
    "    else:\n",
    "        [history[node].append(network[history[node][-1]][1]) for node in nodes]\n",
    "\n",
    "    # For each of the nodes, if we are at Z, check the history to see if we have reached Z before\n",
    "    for n in nodes[::-1]:\n",
    "        if history[n][-1].endswith('Z'):\n",
    "            for s in range(1,steps):\n",
    "                if history[n][-s-1].endswith('Z'):\n",
    "                    # Find the index of the node in the list of nodes, and remove it\n",
    "                    idx = nodes.index(n)\n",
    "                    nodes.pop(idx)\n",
    "                    # Store the pattern of the cycle. The pattern is the number of steps it took to reach Z again, and the number of steps in the cycle\n",
    "                    pattern[n] = (steps-(s), s)\n",
    "                    break\n",
    "    steps += 1\n",
    "    dir += 1\n",
    "    dir = dir % len(directions)\n",
    "\n",
    "import numpy as np\n",
    "# Use the least common multiple of the cycle lengths to find the number of steps to reach ZZZ\n",
    "print(f'It takes {np.lcm.reduce([x[1] for x in pattern.values()])} steps to reach ZZZ on all paths')"
   ]
  }
 ],
 "metadata": {
  "kernelspec": {
   "display_name": "venv",
   "language": "python",
   "name": "python3"
  },
  "language_info": {
   "codemirror_mode": {
    "name": "ipython",
    "version": 3
   },
   "file_extension": ".py",
   "mimetype": "text/x-python",
   "name": "python",
   "nbconvert_exporter": "python",
   "pygments_lexer": "ipython3",
   "version": "3.10.12"
  }
 },
 "nbformat": 4,
 "nbformat_minor": 2
}
