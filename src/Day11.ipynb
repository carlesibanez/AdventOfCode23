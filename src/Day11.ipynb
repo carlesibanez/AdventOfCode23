{
 "cells": [
  {
   "cell_type": "markdown",
   "metadata": {},
   "source": [
    "# Day 11"
   ]
  },
  {
   "cell_type": "code",
   "execution_count": 1,
   "metadata": {},
   "outputs": [],
   "source": [
    "# Read input file\n",
    "with open('../inputs/adventofcode.com_2023_day_11_input.txt', 'r') as f:\n",
    "    data = f.read().splitlines()"
   ]
  },
  {
   "cell_type": "markdown",
   "metadata": {},
   "source": [
    "## Puzzle 1"
   ]
  },
  {
   "cell_type": "code",
   "execution_count": 2,
   "metadata": {},
   "outputs": [
    {
     "name": "stdout",
     "output_type": "stream",
     "text": [
      "There are 13 empty rows, and 5 empty cols\n",
      "The sum of distances is 10494813\n"
     ]
    }
   ],
   "source": [
    "# Parse the data into a numpy array, where each galaxy is represented by a number\n",
    "import numpy as np\n",
    "universe = np.zeros((len(data), len(data[0])), dtype=int)\n",
    "\n",
    "count = 1 # Counter for galaxies\n",
    "galaxies = {} # Dict to store the coordinates of the galaxies\n",
    "for r in range(len(data)):\n",
    "    for c in range(len(data[0])):\n",
    "        if data[r][c] == '#':\n",
    "            universe[r, c] = count\n",
    "            galaxies[universe[r, c]] = (r, c)\n",
    "            count += 1\n",
    "\n",
    "# To expand the universe:\n",
    "# 1. Find rows and cols that are empty\n",
    "empty_rows = [(universe[r] == 0).all() for r in range(len(universe))]\n",
    "empty_cols = [(universe[:, c] == 0).all() for c in range(len(universe[0]))]\n",
    "print(f'There are {empty_rows.count(True)} empty rows, and {empty_cols.count(True)} empty cols')\n",
    "\n",
    "# Get the indexes of the empty rows and columns\n",
    "empty_rows_idx = [i for i, r in enumerate(empty_rows) if r]\n",
    "empty_cols_idx = [i for i, c in enumerate(empty_cols) if c]\n",
    "\n",
    "\n",
    "\n",
    "def expanded_universe_min_dist_sum(offset = 0):\n",
    "    # Calculate the sum of the manhattan distances between all galaxies and add the offset when there are empty rows or columns\n",
    "\n",
    "    sum_of_distances = 0\n",
    "    for g in galaxies.keys():\n",
    "        for g2 in range(g+1, count):\n",
    "\n",
    "            # Calculate the manhattan distance between the galaxies\n",
    "            man_dist = abs(galaxies[g][0] - galaxies[g2][0]) + abs(galaxies[g][1] - galaxies[g2][1])\n",
    "\n",
    "            # Add the offset if the empty row or column is between the galaxies\n",
    "            for idx in empty_rows_idx:\n",
    "                if (galaxies[g][0] < idx and idx < galaxies[g2][0]) or (galaxies[g][0] > idx and idx > galaxies[g2][0]):\n",
    "                    man_dist += offset\n",
    "            for idx in empty_cols_idx:\n",
    "                if (galaxies[g][1] < idx and idx < galaxies[g2][1]) or (galaxies[g][1] > idx and idx > galaxies[g2][1]):\n",
    "                    man_dist += offset\n",
    "            sum_of_distances += man_dist\n",
    "\n",
    "    return sum_of_distances\n",
    "\n",
    "\n",
    "print(f'The sum of distances is {expanded_universe_min_dist_sum(offset=1)}')\n"
   ]
  },
  {
   "cell_type": "markdown",
   "metadata": {},
   "source": [
    "## Puzzle 2"
   ]
  },
  {
   "cell_type": "code",
   "execution_count": 3,
   "metadata": {},
   "outputs": [
    {
     "name": "stdout",
     "output_type": "stream",
     "text": [
      "The sum of distances is 840988812853\n"
     ]
    }
   ],
   "source": [
    "print(f'The sum of distances is {expanded_universe_min_dist_sum(offset=1000000-1)}')\n",
    "# The offset is 1 minus because one row of emptiness is already there, so we need to add 999999 more"
   ]
  }
 ],
 "metadata": {
  "kernelspec": {
   "display_name": "venv",
   "language": "python",
   "name": "python3"
  },
  "language_info": {
   "codemirror_mode": {
    "name": "ipython",
    "version": 3
   },
   "file_extension": ".py",
   "mimetype": "text/x-python",
   "name": "python",
   "nbconvert_exporter": "python",
   "pygments_lexer": "ipython3",
   "version": "3.10.12"
  }
 },
 "nbformat": 4,
 "nbformat_minor": 2
}
