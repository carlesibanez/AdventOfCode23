{
 "cells": [
  {
   "cell_type": "markdown",
   "metadata": {},
   "source": [
    "# Day 3"
   ]
  },
  {
   "cell_type": "code",
   "execution_count": 1,
   "metadata": {},
   "outputs": [],
   "source": [
    "# Read input file\n",
    "with open('../inputs/adventofcode.com_2023_day_03_input.txt', 'r') as f:\n",
    "    data = f.read().splitlines()"
   ]
  },
  {
   "cell_type": "markdown",
   "metadata": {},
   "source": [
    "## Puzzle 1"
   ]
  },
  {
   "cell_type": "code",
   "execution_count": 2,
   "metadata": {},
   "outputs": [
    {
     "name": "stdout",
     "output_type": "stream",
     "text": [
      "The sum of all the parts is: 536202\n"
     ]
    }
   ],
   "source": [
    "total = 0\n",
    "\n",
    "        \n",
    "def is_valid(row, col, length) -> bool:\n",
    "    # Set top, left, right, and bottom to the bounds of the square we need to check\n",
    "    top = row - 1 if row > 0 else row\n",
    "    left = col - 1 if col > 0 else col\n",
    "    right = col + length if col + length < len(data[0]) else col + length - 1\n",
    "    bottom = row + 1 if row + 1 < len(data) else row\n",
    "\n",
    "    # Check the square for any non-digit and non dot characters, if found return True\n",
    "    for r in range(top, bottom + 1):\n",
    "        for c in range(left, right + 1):\n",
    "            if not data[r][c].isdigit() and data[r][c] != '.':\n",
    "                return True\n",
    "    return False\n",
    "            \n",
    "\n",
    "for r, line in enumerate(data):\n",
    "    number = ''\n",
    "    for c, char in enumerate(line):\n",
    "        if char.isdigit():\n",
    "            number += char\n",
    "\n",
    "        # If the next character is not a digit, or we are at the end of the line, check the number\n",
    "        if c+1 == len(line) or not line[c+1].isdigit():\n",
    "            if number:\n",
    "                # If the number is valid, add it to the total\n",
    "                if is_valid(r, c-len(number)+1, len(number)):\n",
    "                    total += int(number)\n",
    "                number = '' # Reset number\n",
    "\n",
    "print(f'The sum of all the parts is: {total}')\n",
    "\n"
   ]
  }
 ],
 "metadata": {
  "kernelspec": {
   "display_name": "venv",
   "language": "python",
   "name": "python3"
  },
  "language_info": {
   "codemirror_mode": {
    "name": "ipython",
    "version": 3
   },
   "file_extension": ".py",
   "mimetype": "text/x-python",
   "name": "python",
   "nbconvert_exporter": "python",
   "pygments_lexer": "ipython3",
   "version": "3.10.12"
  }
 },
 "nbformat": 4,
 "nbformat_minor": 2
}
