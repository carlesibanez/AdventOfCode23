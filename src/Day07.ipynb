{
 "cells": [
  {
   "cell_type": "markdown",
   "metadata": {},
   "source": [
    "# Day 7"
   ]
  },
  {
   "cell_type": "code",
   "execution_count": 1,
   "metadata": {},
   "outputs": [],
   "source": [
    "# Read input file\n",
    "with open('../inputs/adventofcode.com_2023_day_07_input.txt', 'r') as f:\n",
    "    data = f.read().splitlines()"
   ]
  },
  {
   "cell_type": "markdown",
   "metadata": {},
   "source": [
    "## Puzzle 1"
   ]
  },
  {
   "cell_type": "code",
   "execution_count": 2,
   "metadata": {},
   "outputs": [
    {
     "name": "stdout",
     "output_type": "stream",
     "text": [
      "The total winnings are 253603890\n"
     ]
    }
   ],
   "source": [
    "hand_order = ['A', 'K', 'Q', 'J', 'T', '9', '8', '7', '6', '5', '4', '3', '2']\n",
    "kind_order = ['5 of a kind', '4 of a kind', 'full house', '3 of a kind', '2 pairs', '1 pair', 'high card']\n",
    "\n",
    "def get_card_kind(card_value):\n",
    "    a = {}\n",
    "    for c in card_value:\n",
    "        a[c] = 1 if c not in a else a[c] + 1\n",
    "\n",
    "    n_val = len(a)\n",
    "    if n_val == 1:\n",
    "        return '5 of a kind'\n",
    "    elif n_val == 2:\n",
    "        if 4 in a.values():\n",
    "            return '4 of a kind'\n",
    "        else:\n",
    "            return 'full house'\n",
    "    elif n_val == 3:\n",
    "        if 3 in a.values():\n",
    "            return '3 of a kind'\n",
    "        else:\n",
    "            return '2 pairs'\n",
    "    elif n_val == 4:\n",
    "        return '1 pair'\n",
    "    else:\n",
    "        return 'high card'\n",
    "    \n",
    "ranks = {k: [] for k in kind_order}\n",
    "\n",
    "# Sort cards by kind\n",
    "for card in data:\n",
    "    card_value = card.split()[0]\n",
    "    card_kind = get_card_kind(card_value)\n",
    "    ranks[card_kind].append(card)\n",
    "\n",
    "# Sort cards by value in each kind\n",
    "for kind in kind_order:\n",
    "    if len(ranks[kind]) > 0:\n",
    "      ranks[kind].sort(key=lambda x: list(map(lambda l: hand_order.index(l), x.split()[0])))\n",
    "\n",
    "# Calculate the winnings\n",
    "multiplier = len(data)\n",
    "result = 0\n",
    "for kind in kind_order:\n",
    "    for card in ranks[kind]:\n",
    "        result += int(card.split()[1]) * multiplier\n",
    "        multiplier -= 1\n",
    "\n",
    "print(f'The total winnings are {result}')"
   ]
  },
  {
   "cell_type": "markdown",
   "metadata": {},
   "source": [
    "## Puzzle 2"
   ]
  },
  {
   "cell_type": "code",
   "execution_count": 3,
   "metadata": {},
   "outputs": [
    {
     "name": "stdout",
     "output_type": "stream",
     "text": [
      "The total winnings are 253630098\n"
     ]
    }
   ],
   "source": [
    "hand_order = ['A', 'K', 'Q', 'T', '9', '8', '7', '6', '5', '4', '3', '2', 'J']\n",
    "kind_order = ['5 of a kind', '4 of a kind', 'full house', '3 of a kind', '2 pairs', '1 pair', 'high card']\n",
    "\n",
    "def get_card_kind(card_value):\n",
    "    a = {}\n",
    "    for c in card_value:\n",
    "        a[c] = 1 if c not in a else a[c] + 1\n",
    "\n",
    "    # Check if we have any J's and if we have more than one type of card\n",
    "    if a.get('J', 0) != 0 and len(a) > 1:\n",
    "        offset = a.pop('J') # Remove the J from the dictionary and keep the value\n",
    "\n",
    "        # Generate a list of tuples sorted by value for convenience\n",
    "        l = [(k, v) for k, v in a.items()]\n",
    "        l.sort(key=lambda x: x[1], reverse=True) \n",
    "\n",
    "        # Add the offset to the first card in the list (highest value)\n",
    "        for k, v in l:\n",
    "            a[k] = a[k] + offset\n",
    "            break\n",
    "\n",
    "    n_val = len(a)\n",
    "    if n_val == 1:\n",
    "        return '5 of a kind'\n",
    "    elif n_val == 2:\n",
    "        if 4 in a.values():\n",
    "            return '4 of a kind'\n",
    "        else:\n",
    "            return 'full house'\n",
    "    elif n_val == 3:\n",
    "        if 3 in a.values():\n",
    "            return '3 of a kind'\n",
    "        else:\n",
    "            return '2 pairs'\n",
    "    elif n_val == 4:\n",
    "        return '1 pair'\n",
    "    else:\n",
    "        return 'high card'\n",
    "    \n",
    "\n",
    "ranks = {k: [] for k in kind_order}\n",
    "\n",
    "# Sort cards by kind\n",
    "for card in data:\n",
    "    card_value = card.split()[0]\n",
    "    card_kind = get_card_kind(card_value)\n",
    "    ranks[card_kind].append(card)\n",
    "\n",
    "# Sort cards by value in each kind\n",
    "for kind in kind_order:\n",
    "    if len(ranks[kind]) > 0:\n",
    "      ranks[kind].sort(key=lambda x: list(map(lambda l: hand_order.index(l), x.split()[0])))\n",
    "\n",
    "# Calculate the winnings\n",
    "multiplier = len(data)\n",
    "result = 0\n",
    "for kind in kind_order:\n",
    "    for card in ranks[kind]:\n",
    "        result += int(card.split()[1]) * multiplier\n",
    "        multiplier -= 1\n",
    "\n",
    "print(f'The total winnings are {result}')\n"
   ]
  }
 ],
 "metadata": {
  "kernelspec": {
   "display_name": "venv",
   "language": "python",
   "name": "python3"
  },
  "language_info": {
   "codemirror_mode": {
    "name": "ipython",
    "version": 3
   },
   "file_extension": ".py",
   "mimetype": "text/x-python",
   "name": "python",
   "nbconvert_exporter": "python",
   "pygments_lexer": "ipython3",
   "version": "3.10.12"
  }
 },
 "nbformat": 4,
 "nbformat_minor": 2
}
