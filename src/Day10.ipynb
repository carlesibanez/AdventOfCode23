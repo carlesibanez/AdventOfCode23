{
 "cells": [
  {
   "cell_type": "markdown",
   "metadata": {},
   "source": [
    "# Day 10"
   ]
  },
  {
   "cell_type": "code",
   "execution_count": 1,
   "metadata": {},
   "outputs": [],
   "source": [
    "# Read input file\n",
    "with open('../inputs/adventofcode.com_2023_day_10_input.txt', 'r') as f:\n",
    "    data = f.read().splitlines()"
   ]
  },
  {
   "cell_type": "markdown",
   "metadata": {},
   "source": [
    "## Puzzle 1"
   ]
  },
  {
   "cell_type": "code",
   "execution_count": 2,
   "metadata": {},
   "outputs": [
    {
     "name": "stdout",
     "output_type": "stream",
     "text": [
      "(50, 39)\n",
      "The farthest point from the start is 7145 steps away\n"
     ]
    }
   ],
   "source": [
    "start = None\n",
    "for i, row in enumerate(data):\n",
    "    if 'S' in row:\n",
    "        start = (i, row.index('S'))\n",
    "        break\n",
    "\n",
    "print(start)\n",
    "\n",
    "def get_neighbours(x, y):\n",
    "    if data[x][y] == '|':\n",
    "        return [(x-1, y), (x+1, y)]\n",
    "    elif data[x][y] == '-':\n",
    "        return [(x, y-1), (x, y+1)]\n",
    "    elif data[x][y] == 'L':\n",
    "        return [(x-1, y), (x, y+1)]\n",
    "    elif data[x][y] == 'J':\n",
    "        return [(x-1, y), (x, y-1)]\n",
    "    elif data[x][y] == '7':\n",
    "        return [(x+1, y), (x, y-1)]\n",
    "    elif data[x][y] == 'F':\n",
    "        return [(x+1, y), (x, y+1)]\n",
    "    elif data[x][y] == 'S':\n",
    "        neighbours = []\n",
    "        # Check all directions\n",
    "        for row in range(x-1, x+2):\n",
    "            for col in range(y-1, y+2):\n",
    "                if not (row == x and col == y) and abs(row - x) + abs(col - y) == 1 and 0 <= row < len(data) and 0 <= col < len(data[row]):\n",
    "                    n = get_neighbours(row, col)\n",
    "                    # print(f'Neighbours on {row}, {col}: {n}')\n",
    "                    if (x, y) in n:\n",
    "                        # n.remove((x, y))\n",
    "                        # neighbours.extend(n)\n",
    "                        neighbours.append((row, col))\n",
    "        return neighbours\n",
    "    else:\n",
    "        return []\n",
    "            \n",
    "nodes = get_neighbours(start[0], start[1])\n",
    "prev_nodes = [[start], [start]]\n",
    "\n",
    "\n",
    "while True:\n",
    "    new_nodes = []\n",
    "    # print(f'Nodes: {nodes}')\n",
    "    for i, node in enumerate(nodes):\n",
    "        new_nodes.extend(get_neighbours(node[0], node[1]))\n",
    "        new_nodes.remove(prev_nodes[i][-1])\n",
    "        prev_nodes[i].append(node)\n",
    "    if prev_nodes[0][-1] in prev_nodes[1] or prev_nodes[1][-1] in prev_nodes[0]:\n",
    "        break\n",
    "    nodes = new_nodes\n",
    "print(f'The farthest point from the start is {len(prev_nodes[0]) -1} steps away')"
   ]
  },
  {
   "cell_type": "markdown",
   "metadata": {},
   "source": [
    "## Puzzle 2"
   ]
  },
  {
   "cell_type": "code",
   "execution_count": 3,
   "metadata": {},
   "outputs": [
    {
     "name": "stdout",
     "output_type": "stream",
     "text": [
      "The direction to the first point is 0, -1\n",
      "The direction to the second point is 0, 1\n",
      "-\n"
     ]
    }
   ],
   "source": [
    "# Get the direction to the first and last point of the loop\n",
    "dfy, dfx = prev_nodes[0][1][0] - start[0], prev_nodes[0][1][1] - start[1]\n",
    "dly, dlx = prev_nodes[1][1][0] - start[0], prev_nodes[1][1][1] - start[1]\n",
    "\n",
    "print(f'The direction to the first point is {dfy}, {dfx}')\n",
    "print(f'The direction to the second point is {dly}, {dlx}')\n",
    "\n",
    "data = [list(row) for row in data]  # Convert each row to a list`to be able to change the characters\n",
    "\n",
    "# Change the start point to the correct character\n",
    "if dfx == 0 and dlx == 0:\n",
    "    data[start[0]][start[1]] = '|'\n",
    "elif dfy == 0 and dly == 0:\n",
    "    data[start[0]][start[1]] = '-'\n",
    "elif dfx == -1 and dlx == 0:\n",
    "    data[start[0]][start[1]] = '7'\n",
    "elif dfy == 0 and dly == 1:\n",
    "    data[start[0]][start[1]] = 'F'\n",
    "elif dfx == 0 and dlx == -1:\n",
    "    data[start[0]][start[1]] = 'J'\n",
    "elif dfx == 0 and dlx == 1:\n",
    "    data[start[0]][start[1]] = 'L'  \n",
    "\n",
    "data = [''.join(row) for row in data]  # Convert each row back to a string\n",
    "\n",
    "print(data[start[0]][start[1]])"
   ]
  },
  {
   "cell_type": "code",
   "execution_count": 4,
   "metadata": {},
   "outputs": [
    {
     "name": "stdout",
     "output_type": "stream",
     "text": [
      "The number of tiles inside the loop is 445\n"
     ]
    }
   ],
   "source": [
    "loop = []\n",
    "loop.extend(prev_nodes[0])\n",
    "loop.extend(prev_nodes[1])\n",
    "\n",
    "import numpy as np\n",
    "\n",
    "board = np.zeros((len(data), len(data[0])), dtype=int)\n",
    "\n",
    "for i, row in enumerate(data):\n",
    "    out = True\n",
    "    crossing = False\n",
    "    for j, col in enumerate(row):\n",
    "        if (i, j) in loop and col == '|':\n",
    "            out = not out\n",
    "        elif (i, j) in loop and (col == 'L' or col == 'F'):\n",
    "            crossing = col == 'L'\n",
    "        elif (i, j) in loop and (crossing and col == '7' or not crossing and col == 'J'):\n",
    "            crossing = False\n",
    "            out = not out\n",
    "        if (i, j) not in loop and not out:\n",
    "            board[i, j] = 1\n",
    "\n",
    "print(f'The number of tiles inside the loop is {board.sum().sum()}')\n"
   ]
  }
 ],
 "metadata": {
  "kernelspec": {
   "display_name": "venv",
   "language": "python",
   "name": "python3"
  },
  "language_info": {
   "codemirror_mode": {
    "name": "ipython",
    "version": 3
   },
   "file_extension": ".py",
   "mimetype": "text/x-python",
   "name": "python",
   "nbconvert_exporter": "python",
   "pygments_lexer": "ipython3",
   "version": "3.10.12"
  }
 },
 "nbformat": 4,
 "nbformat_minor": 2
}
