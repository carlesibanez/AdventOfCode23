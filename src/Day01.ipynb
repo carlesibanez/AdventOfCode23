{
 "cells": [
  {
   "cell_type": "markdown",
   "metadata": {},
   "source": [
    "# Day 1"
   ]
  },
  {
   "cell_type": "code",
   "execution_count": 1,
   "metadata": {},
   "outputs": [],
   "source": [
    "# Read input file\n",
    "with open('../inputs/adventofcode.com_2023_day_01_input.txt', 'r') as f:\n",
    "    data = f.read().splitlines()"
   ]
  },
  {
   "cell_type": "markdown",
   "metadata": {},
   "source": [
    "## Puzzle 1"
   ]
  },
  {
   "cell_type": "code",
   "execution_count": 2,
   "metadata": {},
   "outputs": [
    {
     "name": "stdout",
     "output_type": "stream",
     "text": [
      "The sum of the calibration values is 53651.\n"
     ]
    }
   ],
   "source": [
    "values = []\n",
    "for line in data:\n",
    "    numbers = [int(c) for c in line if c.isdigit()]\n",
    "    n = numbers[0]*10 + numbers[-1] # first and last number\n",
    "    values.append(n)\n",
    "\n",
    "# print(f'The calibration values are {values}.')\n",
    "print(f'The sum of the calibration values is {sum(values)}.')"
   ]
  },
  {
   "cell_type": "markdown",
   "metadata": {},
   "source": [
    "## Puzzle 2"
   ]
  },
  {
   "cell_type": "markdown",
   "metadata": {},
   "source": [
    "For this part, I initially developed my solution which looks for all the numbers in string and digit form only using string functions. Later I developed the regex solution which can be found below."
   ]
  },
  {
   "cell_type": "code",
   "execution_count": 3,
   "metadata": {},
   "outputs": [
    {
     "name": "stdout",
     "output_type": "stream",
     "text": [
      "The sum of the calibration values is 53894.\n"
     ]
    }
   ],
   "source": [
    "# Map number names to digits\n",
    "number_names = {\n",
    "    'one': 1, 'two': 2, 'three': 3, 'four': 4, 'five': 5,\n",
    "    'six': 6, 'seven': 7, 'eight': 8, 'nine': 9\n",
    "}\n",
    "names_list = list(number_names.keys())\n",
    "digits_list = list(str(i) for i in number_names.values())\n",
    "names_list.extend(digits_list)\n",
    "\n",
    "values = []\n",
    "for line in data:\n",
    "    numbers = []\n",
    "\n",
    "    # Replace number names with digits\n",
    "    for word in names_list:\n",
    "        l = line\n",
    "        i = 0\n",
    "        while word in l:\n",
    "        # if word in l:\n",
    "            idx = l.index(word) + i\n",
    "            # If the word is a number name, keep it with the corresponding number, if not, keep the number\n",
    "            if word in number_names:\n",
    "                numbers.append((idx, number_names[word]))\n",
    "            else:\n",
    "                numbers.append((idx, int(word)))\n",
    "            i = idx + 1\n",
    "            # print(f'{word} found in {l} at index {idx}, i = {i}')\n",
    "            l = line[i:]\n",
    "            # print(l)\n",
    "    \n",
    "    # Sort the values by order of appearance in the line\n",
    "    numbers.sort(key = lambda x: x[0])\n",
    "    numbers = [int(n) for i, n in numbers]\n",
    "    n = numbers[0]*10 + numbers[-1] # first and last number\n",
    "    values.append(n)\n",
    "    # print(f'{line} -> {numbers} -> {n}')\n",
    "\n",
    "# print(f'The calibration values are {values}.')\n",
    "print(f'The sum of the calibration values is {sum(values)}.')"
   ]
  },
  {
   "cell_type": "code",
   "execution_count": 4,
   "metadata": {},
   "outputs": [
    {
     "name": "stdout",
     "output_type": "stream",
     "text": [
      "The sum of the calibration values is 53894.\n"
     ]
    }
   ],
   "source": [
    "import re\n",
    "\n",
    "number_names = {\n",
    "    'one': 1, 'two': 2, 'three': 3, 'four': 4, 'five': 5,\n",
    "    'six': 6, 'seven': 7, 'eight': 8, 'nine': 9\n",
    "}\n",
    "\n",
    "# Prepare the pattern for matching both words and digits\n",
    "pattern = re.compile(r'(?=(' + '|'.join(number_names.keys()) + r'|\\d))')\n",
    "values = []\n",
    "for line in data:\n",
    "    matches = pattern.findall(line)\n",
    "    \n",
    "    # Convert the matches to digits\n",
    "    numbers = [number_names[m] if m in number_names else int(m) for m in matches]\n",
    "    # print(f'{line} -> {numbers}')\n",
    "    # Combine the first and last numbers to form the two-digit calibration value\n",
    "    n = numbers[0] * 10 + numbers[-1]\n",
    "    values.append(n)\n",
    "\n",
    "# print(f'The calibration values are {values}.')\n",
    "print(f'The sum of the calibration values is {sum(values)}.')"
   ]
  }
 ],
 "metadata": {
  "kernelspec": {
   "display_name": "venv",
   "language": "python",
   "name": "python3"
  },
  "language_info": {
   "codemirror_mode": {
    "name": "ipython",
    "version": 3
   },
   "file_extension": ".py",
   "mimetype": "text/x-python",
   "name": "python",
   "nbconvert_exporter": "python",
   "pygments_lexer": "ipython3",
   "version": "3.8.10"
  }
 },
 "nbformat": 4,
 "nbformat_minor": 2
}
