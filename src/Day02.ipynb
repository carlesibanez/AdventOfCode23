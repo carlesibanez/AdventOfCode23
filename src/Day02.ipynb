{
 "cells": [
  {
   "cell_type": "markdown",
   "metadata": {},
   "source": [
    "# Day 2"
   ]
  },
  {
   "cell_type": "code",
   "execution_count": 1,
   "metadata": {},
   "outputs": [],
   "source": [
    "# Read input file\n",
    "with open('../inputs/adventofcode.com_2023_day_02_input.txt', 'r') as f:\n",
    "    data = f.read().splitlines()"
   ]
  },
  {
   "cell_type": "markdown",
   "metadata": {},
   "source": [
    "## Puzzle 1"
   ]
  },
  {
   "cell_type": "code",
   "execution_count": 2,
   "metadata": {},
   "outputs": [
    {
     "name": "stdout",
     "output_type": "stream",
     "text": [
      "The sum of the ids of the possible games is 2771\n"
     ]
    }
   ],
   "source": [
    "red = 12\n",
    "green = 13\n",
    "blue = 14\n",
    "\n",
    "# Dictionary to save the parsed data (games)\n",
    "games = {}\n",
    "\n",
    "for line in data:\n",
    "    game = line.split(': ')\n",
    "    game_id = game[0].split(' ')[1]\n",
    "    game_data = game[1].split('; ')\n",
    "\n",
    "    # Initialize the game to an empty list\n",
    "    games[game_id] = []\n",
    "    \n",
    "    for round in game_data:\n",
    "        cubes = round.split(', ')\n",
    "        # Initialize the result dictionary\n",
    "        result = {'red': 0, 'green': 0, 'blue': 0}\n",
    "        # For each color, add the number of cubes to the result dictionary\n",
    "        for cube in cubes:\n",
    "            c = cube.split(' ')\n",
    "            n = int(c[0])\n",
    "            color = c[1]\n",
    "            result[color] += n\n",
    "        games[game_id].append(result)\n",
    "\n",
    "# List to save the possible games\n",
    "possible_games = []\n",
    "\n",
    "for g in games.keys():\n",
    "    possible = True\n",
    "    for r in games[g]:\n",
    "        if r['red'] > red or r['green'] > green or r['blue'] > blue:\n",
    "            possible = False\n",
    "            # print(f'Game {g} is not possible')\n",
    "            break\n",
    "    if possible:\n",
    "        # print(f'Game {g} is possible')\n",
    "        possible_games.append(g)    # Add the game id to the list of possible games if all rounds are possible\n",
    "\n",
    "print(f'The sum of the ids of the possible games is {sum([int(g) for g in possible_games])}')"
   ]
  }
 ],
 "metadata": {
  "kernelspec": {
   "display_name": "venv",
   "language": "python",
   "name": "python3"
  },
  "language_info": {
   "codemirror_mode": {
    "name": "ipython",
    "version": 3
   },
   "file_extension": ".py",
   "mimetype": "text/x-python",
   "name": "python",
   "nbconvert_exporter": "python",
   "pygments_lexer": "ipython3",
   "version": "3.8.10"
  }
 },
 "nbformat": 4,
 "nbformat_minor": 2
}
