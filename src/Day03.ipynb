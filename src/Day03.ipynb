{
 "cells": [
  {
   "cell_type": "markdown",
   "metadata": {},
   "source": [
    "# Day 3"
   ]
  },
  {
   "cell_type": "code",
   "execution_count": 1,
   "metadata": {},
   "outputs": [],
   "source": [
    "# Read input file\n",
    "with open('../inputs/adventofcode.com_2023_day_03_input.txt', 'r') as f:\n",
    "    data = f.read().splitlines()"
   ]
  },
  {
   "cell_type": "markdown",
   "metadata": {},
   "source": [
    "## Puzzle 1"
   ]
  },
  {
   "cell_type": "code",
   "execution_count": 2,
   "metadata": {},
   "outputs": [
    {
     "name": "stdout",
     "output_type": "stream",
     "text": [
      "The sum of all the parts is: 536202\n"
     ]
    }
   ],
   "source": [
    "total = 0\n",
    "\n",
    "        \n",
    "def is_valid(row, col, length) -> bool:\n",
    "    # Set top, left, right, and bottom to the bounds of the square we need to check\n",
    "    top = row - 1 if row > 0 else row\n",
    "    left = col - 1 if col > 0 else col\n",
    "    right = col + length if col + length < len(data[0]) else col + length - 1\n",
    "    bottom = row + 1 if row + 1 < len(data) else row\n",
    "\n",
    "    # Check the square for any non-digit and non dot characters, if found return True\n",
    "    for r in range(top, bottom + 1):\n",
    "        for c in range(left, right + 1):\n",
    "            if not data[r][c].isdigit() and data[r][c] != '.':\n",
    "                return True\n",
    "    return False\n",
    "            \n",
    "\n",
    "for r, line in enumerate(data):\n",
    "    number = ''\n",
    "    for c, char in enumerate(line):\n",
    "        if char.isdigit():\n",
    "            number += char\n",
    "\n",
    "        # If the we are at the end of the line or the next character is not a digit, check the number\n",
    "        if c+1 == len(line) or not line[c+1].isdigit():\n",
    "            if number:\n",
    "                # If the number is valid, add it to the total\n",
    "                if is_valid(r, c-len(number)+1, len(number)):\n",
    "                    total += int(number)\n",
    "                number = '' # Reset number\n",
    "\n",
    "print(f'The sum of all the parts is: {total}')\n",
    "\n"
   ]
  },
  {
   "cell_type": "markdown",
   "metadata": {},
   "source": [
    "## Puzzle 2"
   ]
  },
  {
   "cell_type": "code",
   "execution_count": 3,
   "metadata": {},
   "outputs": [
    {
     "name": "stdout",
     "output_type": "stream",
     "text": [
      "The sum of all the parts is: 78272573\n"
     ]
    }
   ],
   "source": [
    "total = 0\n",
    "import numpy as np\n",
    "\n",
    "# Matrix to keep track of numbers already \"discovered\"\n",
    "d1 = np.zeros((len(data), len(data[0])), dtype=int)\n",
    "\n",
    "# Given a number's coordinates, find the full number going left and right\n",
    "def find_full_number(r, c) -> str:\n",
    "    # Check on the left until we find a non-digit\n",
    "    number = ''\n",
    "    for c_start in range(c-1, -2, -1):\n",
    "        if c_start == -1 or not data[r][c_start].isdigit():\n",
    "            break\n",
    "\n",
    "    # Check on the right until we find a non-digit\n",
    "    for c_end in range(c, len(data[0])+1):\n",
    "        if c_end == len(data[0]) or not data[r][c_end].isdigit():\n",
    "            break\n",
    "    \n",
    "    # Return the full number and the column where it starts and end\n",
    "    return (data[r][c_start+1:c_end], c_start+1, c_end-1)\n",
    "\n",
    "def find_pair(row, col):\n",
    "    top = row - 1 if row > 0 else row\n",
    "    left = col - 1 if col > 0 else col\n",
    "    right = col + 1 if col + 1 < len(data[0]) else col\n",
    "    bottom = row + 1 if row + 1 < len(data) else row\n",
    "\n",
    "    # List of the numbers around the gear\n",
    "    numbers = []\n",
    "    # Check the 8 surrounding numbers in a 3x3 space\n",
    "    for r in range(top, bottom + 1):\n",
    "        for c in range(left, right + 1):\n",
    "            # If a digit is found, look for the full number\n",
    "            if data[r][c].isdigit():\n",
    "                num, cs, ce = find_full_number(r,c)\n",
    "                # If the number has not yet been counted, add it ot the list of numbers around the gear,and\n",
    "                # mark it in the matrix d1\n",
    "                if d1[r][cs:ce+1].sum() == 0:\n",
    "                    numbers.append(int(num))\n",
    "                    d1[r][cs:ce+1] = 1\n",
    "            \n",
    "    return numbers\n",
    "\n",
    "\n",
    "for r, line in enumerate(data):\n",
    "    for c, char in enumerate(line):\n",
    "        # If a gear is found, look for numbers around it\n",
    "        if char == '*':\n",
    "            pair = find_pair(r,c)\n",
    "            if len(pair) == 2:\n",
    "                total += pair[1] * pair[0]\n",
    "\n",
    "print(f'The sum of all the parts is: {total}')"
   ]
  }
 ],
 "metadata": {
  "kernelspec": {
   "display_name": "venv",
   "language": "python",
   "name": "python3"
  },
  "language_info": {
   "codemirror_mode": {
    "name": "ipython",
    "version": 3
   },
   "file_extension": ".py",
   "mimetype": "text/x-python",
   "name": "python",
   "nbconvert_exporter": "python",
   "pygments_lexer": "ipython3",
   "version": "3.10.12"
  }
 },
 "nbformat": 4,
 "nbformat_minor": 2
}
