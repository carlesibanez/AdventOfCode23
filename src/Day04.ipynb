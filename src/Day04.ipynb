{
 "cells": [
  {
   "cell_type": "markdown",
   "metadata": {},
   "source": [
    "# Day 4"
   ]
  },
  {
   "cell_type": "code",
   "execution_count": 1,
   "metadata": {},
   "outputs": [],
   "source": [
    "# Read input file\n",
    "with open('../inputs/adventofcode.com_2023_day_04_input.txt', 'r') as f:\n",
    "    data = f.read().splitlines()"
   ]
  },
  {
   "cell_type": "markdown",
   "metadata": {},
   "source": [
    "## Puzzle 1"
   ]
  },
  {
   "cell_type": "code",
   "execution_count": 2,
   "metadata": {},
   "outputs": [
    {
     "name": "stdout",
     "output_type": "stream",
     "text": [
      "Total points: 18519\n"
     ]
    }
   ],
   "source": [
    "total = 0\n",
    "\n",
    "for line in data:\n",
    "    # Separate card number and numbers\n",
    "    card, numbers = line.split(':')\n",
    "    # Separate winning numbers and current numbers\n",
    "    winning_numbers, current_numbers = numbers.split('|')\n",
    "    winning_numbers = winning_numbers.split()\n",
    "    current_numbers = current_numbers.split()\n",
    "    # Check for wins\n",
    "    wins = 0\n",
    "    for i in winning_numbers:\n",
    "        if i in current_numbers:\n",
    "            wins += 1\n",
    "    # Compute points and add them to the total\n",
    "    if wins != 0:\n",
    "        total += 2**(wins-1)\n",
    "\n",
    "print(f'Total points: {total}')"
   ]
  },
  {
   "cell_type": "markdown",
   "metadata": {},
   "source": [
    "## Puzzle 2"
   ]
  },
  {
   "cell_type": "code",
   "execution_count": 3,
   "metadata": {},
   "outputs": [
    {
     "name": "stdout",
     "output_type": "stream",
     "text": [
      "Total points: 11787590\n"
     ]
    }
   ],
   "source": [
    "total = 0\n",
    "\n",
    "win_dict = {}\n",
    "cards = {c: 0 for c in range(1, len(data)+1)}\n",
    "\n",
    "for line in data:\n",
    "    # Separate card number and numbers\n",
    "    card, numbers = line.split(':')\n",
    "    card_number = int(card.split()[1])\n",
    "    cards[card_number] += 1\n",
    "    # Separate winning numbers and current numbers\n",
    "    winning_numbers, current_numbers = numbers.split('|')\n",
    "    winning_numbers = winning_numbers.split()\n",
    "    current_numbers = current_numbers.split()\n",
    "    # Check for wins\n",
    "    wins = 0\n",
    "    for i in winning_numbers:\n",
    "        if i in current_numbers:\n",
    "            wins += 1\n",
    "\n",
    "    for i in range(1, wins+1):\n",
    "        # For each of the cards that we have for this value, \n",
    "        # we win one of the other cards\n",
    "        cards[card_number+i] += cards[card_number]\n",
    "\n",
    "    \n",
    "\n",
    "print(f'Total points: {sum(cards.values())}')"
   ]
  }
 ],
 "metadata": {
  "kernelspec": {
   "display_name": "venv",
   "language": "python",
   "name": "python3"
  },
  "language_info": {
   "codemirror_mode": {
    "name": "ipython",
    "version": 3
   },
   "file_extension": ".py",
   "mimetype": "text/x-python",
   "name": "python",
   "nbconvert_exporter": "python",
   "pygments_lexer": "ipython3",
   "version": "3.10.12"
  }
 },
 "nbformat": 4,
 "nbformat_minor": 2
}
