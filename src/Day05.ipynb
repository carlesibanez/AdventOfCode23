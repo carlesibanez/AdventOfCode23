{
 "cells": [
  {
   "cell_type": "markdown",
   "metadata": {},
   "source": [
    "# Day 5"
   ]
  },
  {
   "cell_type": "code",
   "execution_count": 1,
   "metadata": {},
   "outputs": [],
   "source": [
    "# Read input file\n",
    "with open('../inputs/adventofcode.com_2023_day_05_input.txt', 'r') as f:\n",
    "    data = f.read().splitlines()"
   ]
  },
  {
   "cell_type": "markdown",
   "metadata": {},
   "source": [
    "## Puzzle 1"
   ]
  },
  {
   "cell_type": "code",
   "execution_count": 2,
   "metadata": {},
   "outputs": [
    {
     "name": "stdout",
     "output_type": "stream",
     "text": [
      "The lowest location number for a seed is 346433842.\n"
     ]
    }
   ],
   "source": [
    "import re\n",
    "maps = {}\n",
    "maps_names = ['seed-to-soil', 'soil-to-fertilizer', 'fertilizer-to-water', 'water-to-light', 'light-to-temperature', 'temperature-to-humidity', 'humidity-to-location']\n",
    "for n in maps_names:\n",
    "    maps[n] = []\n",
    "\n",
    "\n",
    "for line in data:\n",
    "    if line.startswith('seeds:'):\n",
    "        seeds = list(map(int, re.findall(r'\\d+', line)))\n",
    "    elif line.startswith('seed-to-soil map:'):\n",
    "        mode = 'seed-to-soil'\n",
    "    elif line.startswith('soil-to-fertilizer map:'):\n",
    "        mode = 'soil-to-fertilizer'\n",
    "    elif line.startswith('fertilizer-to-water map:'):\n",
    "        mode = 'fertilizer-to-water'\n",
    "    elif line.startswith('water-to-light map:'):\n",
    "        mode = 'water-to-light'\n",
    "    elif line.startswith('light-to-temperature map:'):\n",
    "        mode = 'light-to-temperature'\n",
    "    elif line.startswith('temperature-to-humidity map:'):\n",
    "        mode = 'temperature-to-humidity'\n",
    "    elif line.startswith('humidity-to-location map:'):\n",
    "        mode = 'humidity-to-location'\n",
    "    else:\n",
    "        if line:\n",
    "            dest_start, source_start, length = map(int, re.findall(r'\\d+', line))\n",
    "        else:\n",
    "            continue\n",
    "\n",
    "        maps[mode].append((source_start, dest_start, length))\n",
    "        \n",
    "locations = []\n",
    "# For each seed, follow the maps in order\n",
    "for s in seeds:\n",
    "    lookup = s\n",
    "    for n in maps_names:\n",
    "        for source_start, dest_start, length in maps[n]:\n",
    "            if lookup in range(source_start, source_start+length): # Found if the lookup is in any range\n",
    "                lookup = dest_start - source_start + lookup\n",
    "                break\n",
    "    locations.append((lookup))\n",
    "\n",
    "print(f'The lowest location number for a seed is {min(locations)}.')"
   ]
  },
  {
   "cell_type": "markdown",
   "metadata": {},
   "source": [
    "## Puzzle 2"
   ]
  },
  {
   "cell_type": "code",
   "execution_count": 3,
   "metadata": {},
   "outputs": [
    {
     "name": "stdout",
     "output_type": "stream",
     "text": [
      "The minimum location of the seeds is 60294664.\n"
     ]
    }
   ],
   "source": [
    "def get_partial_ranges(start_range, end_range, map_name):   # 79, 93\n",
    "    ranges = []\n",
    "    for source_start, dest_start, length in maps[map_name]:\n",
    "\n",
    "        # Partial overlap from beginning\n",
    "        if start_range in range(source_start, source_start+length):\n",
    "            new_source_start = start_range\n",
    "            new_dest_start = dest_start - source_start + new_source_start\n",
    "            # Lookup range end is within the source range\n",
    "            if source_start + length < end_range:\n",
    "                l = source_start + length - start_range\n",
    "            # All the source range is within the lookup range\n",
    "            else:\n",
    "                l = end_range - start_range\n",
    "            ranges.append((new_source_start, new_dest_start, l))\n",
    "\n",
    "        elif source_start in range(start_range, end_range):\n",
    "            new_source_start = source_start\n",
    "            new_dest_start = dest_start\n",
    "            # Lookup range end is fully within the source range\n",
    "            if source_start + length < end_range:\n",
    "                l = length\n",
    "            # Lookup range end is partially within the source range\n",
    "            else:\n",
    "                l = end_range - source_start\n",
    "            ranges.append((new_source_start, new_dest_start, l))\n",
    "\n",
    "        elif source_start > end_range:\n",
    "            break\n",
    "\n",
    "    # Ensure ranges are sorted\n",
    "    ranges.sort(key=lambda x: x[0])\n",
    "\n",
    "    # Fill 1:1 mapping (gaps)\n",
    "    a = start_range\n",
    "    for r in ranges:\n",
    "        d = r[0] - a\n",
    "        if d > 0:\n",
    "            ranges.append((a, a, d))\n",
    "        a = r[0] + r[2]\n",
    "    if a < end_range:\n",
    "        ranges.append((a, a, end_range - a))\n",
    "\n",
    "    ranges.sort(key=lambda x: x[0])\n",
    "    return ranges\n",
    "\n",
    "\n",
    "# Start by making sure the ranges in the maps are sorted\n",
    "for map_name in maps_names:\n",
    "    maps[map_name].sort(key=lambda x: x[0])\n",
    "\n",
    "# Ranges of interest\n",
    "seed_ranges = [(seeds[i], seeds[i] + seeds[i+1]) for i in range(0, len(seeds), 2)]\n",
    "\n",
    "# The ranges of interest are the seed ranges at first and then the corresponding soil, fertilizer...\n",
    "ranges_of_interest = []\n",
    "for start_range, end_range in seed_ranges:\n",
    "    ranges_of_interest.extend(get_partial_ranges(start_range, end_range, 'seed-to-soil'))\n",
    "\n",
    "# For each map, get the corresponding partial ranges\n",
    "for map_name in maps_names[1:]:\n",
    "    new_ranges_of_interest = []\n",
    "    for src, dst, l in ranges_of_interest:\n",
    "        p_ranges = get_partial_ranges(dst, dst+l, map_name)\n",
    "        new_ranges_of_interest.extend(p_ranges)\n",
    "    ranges_of_interest = new_ranges_of_interest\n",
    "\n",
    "ranges_of_interest.sort(key=lambda x: x[1])\n",
    "print(f'The minimum location of the seeds is {ranges_of_interest[0][1]}.')\n"
   ]
  }
 ],
 "metadata": {
  "kernelspec": {
   "display_name": "venv",
   "language": "python",
   "name": "python3"
  },
  "language_info": {
   "codemirror_mode": {
    "name": "ipython",
    "version": 3
   },
   "file_extension": ".py",
   "mimetype": "text/x-python",
   "name": "python",
   "nbconvert_exporter": "python",
   "pygments_lexer": "ipython3",
   "version": "3.10.12"
  }
 },
 "nbformat": 4,
 "nbformat_minor": 2
}
