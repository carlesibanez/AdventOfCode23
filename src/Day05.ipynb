{
 "cells": [
  {
   "cell_type": "markdown",
   "metadata": {},
   "source": [
    "# Day 5"
   ]
  },
  {
   "cell_type": "code",
   "execution_count": 1,
   "metadata": {},
   "outputs": [],
   "source": [
    "# Read input file\n",
    "with open('../inputs/adventofcode.com_2023_day_05_input.txt', 'r') as f:\n",
    "    data = f.read().splitlines()"
   ]
  },
  {
   "cell_type": "markdown",
   "metadata": {},
   "source": [
    "## Puzzle 1"
   ]
  },
  {
   "cell_type": "code",
   "execution_count": 2,
   "metadata": {},
   "outputs": [
    {
     "name": "stdout",
     "output_type": "stream",
     "text": [
      "The lowest location number for a seed is 346433842.\n"
     ]
    }
   ],
   "source": [
    "import re\n",
    "maps = {}\n",
    "maps_names = ['seed-to-soil', 'soil-to-fertilizer', 'fertilizer-to-water', 'water-to-light', 'light-to-temperature', 'temperature-to-humidity', 'humidity-to-location']\n",
    "for n in maps_names:\n",
    "    maps[n] = []\n",
    "\n",
    "\n",
    "for line in data:\n",
    "    if line.startswith('seeds:'):\n",
    "        seeds = list(map(int, re.findall(r'\\d+', line)))\n",
    "    elif line.startswith('seed-to-soil map:'):\n",
    "        mode = 'seed-to-soil'\n",
    "    elif line.startswith('soil-to-fertilizer map:'):\n",
    "        mode = 'soil-to-fertilizer'\n",
    "    elif line.startswith('fertilizer-to-water map:'):\n",
    "        mode = 'fertilizer-to-water'\n",
    "    elif line.startswith('water-to-light map:'):\n",
    "        mode = 'water-to-light'\n",
    "    elif line.startswith('light-to-temperature map:'):\n",
    "        mode = 'light-to-temperature'\n",
    "    elif line.startswith('temperature-to-humidity map:'):\n",
    "        mode = 'temperature-to-humidity'\n",
    "    elif line.startswith('humidity-to-location map:'):\n",
    "        mode = 'humidity-to-location'\n",
    "    else:\n",
    "        if line:\n",
    "            dest_start, source_start, length = map(int, re.findall(r'\\d+', line))\n",
    "        else:\n",
    "            continue\n",
    "\n",
    "        maps[mode].append((source_start, dest_start, length))\n",
    "        \n",
    "locations = []\n",
    "# For each seed, follow the maps in order\n",
    "for s in seeds:\n",
    "    lookup = s\n",
    "    for n in maps_names:\n",
    "        for source_start, dest_start, length in maps[n]:\n",
    "            if lookup in range(source_start, source_start+length): # Found if the lookup is in any range\n",
    "                lookup = dest_start - source_start + lookup\n",
    "                break\n",
    "    locations.append((lookup))\n",
    "\n",
    "print(f'The lowest location number for a seed is {min(locations)}.')"
   ]
  }
 ],
 "metadata": {
  "kernelspec": {
   "display_name": "venv",
   "language": "python",
   "name": "python3"
  },
  "language_info": {
   "codemirror_mode": {
    "name": "ipython",
    "version": 3
   },
   "file_extension": ".py",
   "mimetype": "text/x-python",
   "name": "python",
   "nbconvert_exporter": "python",
   "pygments_lexer": "ipython3",
   "version": "3.10.12"
  }
 },
 "nbformat": 4,
 "nbformat_minor": 2
}
