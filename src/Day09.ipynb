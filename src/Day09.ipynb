{
 "cells": [
  {
   "cell_type": "markdown",
   "metadata": {},
   "source": [
    "# Day 9"
   ]
  },
  {
   "cell_type": "code",
   "execution_count": 1,
   "metadata": {},
   "outputs": [],
   "source": [
    "# Read input file\n",
    "with open('../inputs/adventofcode.com_2023_day_09_input.txt', 'r') as f:\n",
    "    data = f.read().splitlines()"
   ]
  },
  {
   "cell_type": "markdown",
   "metadata": {},
   "source": [
    "## Puzzle 1"
   ]
  },
  {
   "cell_type": "code",
   "execution_count": 2,
   "metadata": {},
   "outputs": [
    {
     "name": "stdout",
     "output_type": "stream",
     "text": [
      "The sum of the predictions is: 1681758908\n"
     ]
    }
   ],
   "source": [
    "def predict_next_number(line):\n",
    "    diff = [line[i] - line[i-1] for i in range(1, len(line))]\n",
    "    if all([i == 0 for i in diff]):\n",
    "        return line[-1]\n",
    "    else:\n",
    "        return line[-1] + predict_next_number(diff)\n",
    "    \n",
    "result = 0\n",
    "for line in data:\n",
    "    result += predict_next_number([int(i) for i in line.split(' ')])\n",
    "\n",
    "print(f'The sum of the predictions is: {result}')"
   ]
  },
  {
   "cell_type": "markdown",
   "metadata": {},
   "source": [
    "## Puzzle 2"
   ]
  },
  {
   "cell_type": "code",
   "execution_count": 3,
   "metadata": {},
   "outputs": [
    {
     "name": "stdout",
     "output_type": "stream",
     "text": [
      "The sum of the predictions is: 803\n"
     ]
    }
   ],
   "source": [
    "def predict_previous_number(line):\n",
    "    diff = [line[i] - line[i-1] for i in range(1, len(line))]\n",
    "    if all([i == 0 for i in diff]):\n",
    "        return line[0]\n",
    "    else:\n",
    "        return line[0] - predict_previous_number(diff)\n",
    "    \n",
    "\n",
    "result = 0\n",
    "for line in data:\n",
    "    result += predict_previous_number([int(i) for i in line.split(' ')])\n",
    "\n",
    "print(f'The sum of the predictions is: {result}')"
   ]
  }
 ],
 "metadata": {
  "kernelspec": {
   "display_name": "venv",
   "language": "python",
   "name": "python3"
  },
  "language_info": {
   "codemirror_mode": {
    "name": "ipython",
    "version": 3
   },
   "file_extension": ".py",
   "mimetype": "text/x-python",
   "name": "python",
   "nbconvert_exporter": "python",
   "pygments_lexer": "ipython3",
   "version": "3.10.12"
  }
 },
 "nbformat": 4,
 "nbformat_minor": 2
}
