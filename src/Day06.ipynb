{
 "cells": [
  {
   "cell_type": "markdown",
   "metadata": {},
   "source": [
    "# Day 6"
   ]
  },
  {
   "cell_type": "code",
   "execution_count": 1,
   "metadata": {},
   "outputs": [],
   "source": [
    "# Read input file\n",
    "with open('../inputs/adventofcode.com_2023_day_06_input.txt', 'r') as f:\n",
    "    data = f.read().splitlines()"
   ]
  },
  {
   "cell_type": "markdown",
   "metadata": {},
   "source": [
    "## Puzzle 1"
   ]
  },
  {
   "cell_type": "code",
   "execution_count": 2,
   "metadata": {},
   "outputs": [],
   "source": [
    "times = list(map(int, data[0].split()[1:]))\n",
    "distances = list(map(int, data[1].split()[1:]))"
   ]
  },
  {
   "cell_type": "code",
   "execution_count": 3,
   "metadata": {},
   "outputs": [
    {
     "name": "stdout",
     "output_type": "stream",
     "text": [
      "The margin of error is 3317888\n"
     ]
    }
   ],
   "source": [
    "options = 1\n",
    "for t, d in zip(times, distances):\n",
    "    r1 = (t - (t**2 -4*d)**0.5) / 2 // 1\n",
    "    r2 = (t + (t**2 -4*d)**0.5) / 2 \n",
    "\n",
    "    opt = (r2 - r1 - 1E-3) // 1\n",
    "    options *= opt\n",
    "\n",
    "print(f'The margin of error is {options:.0f}')"
   ]
  },
  {
   "cell_type": "markdown",
   "metadata": {},
   "source": [
    "## Puzzle 2"
   ]
  },
  {
   "cell_type": "code",
   "execution_count": 4,
   "metadata": {},
   "outputs": [
    {
     "name": "stdout",
     "output_type": "stream",
     "text": [
      "New time: 42899189, and distance 308117012911467\n",
      "The margin of error is 24655068\n"
     ]
    }
   ],
   "source": [
    "time = int(''.join([str(t) for t in times]))\n",
    "distance = int(''.join([str(d) for d in distances]))\n",
    "print(f'New time: {time}, and distance {distance}')\n",
    "\n",
    "# Compute lower and upper bounds\n",
    "r1 = (time - (time**2 -4*distance)**0.5) / 2 // 1\n",
    "r2 = (time + (time**2 -4*distance)**0.5) / 2 \n",
    "\n",
    "# Compute the margin of error\n",
    "opt = (r2 - r1 - 1E-3) // 1\n",
    "print(f'The margin of error is {opt:.0f}')"
   ]
  }
 ],
 "metadata": {
  "kernelspec": {
   "display_name": "venv",
   "language": "python",
   "name": "python3"
  },
  "language_info": {
   "codemirror_mode": {
    "name": "ipython",
    "version": 3
   },
   "file_extension": ".py",
   "mimetype": "text/x-python",
   "name": "python",
   "nbconvert_exporter": "python",
   "pygments_lexer": "ipython3",
   "version": "3.10.12"
  }
 },
 "nbformat": 4,
 "nbformat_minor": 2
}
